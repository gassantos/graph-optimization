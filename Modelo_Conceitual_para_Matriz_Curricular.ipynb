{
  "nbformat": 4,
  "nbformat_minor": 0,
  "metadata": {
    "colab": {
      "name": "Modelo Conceitual para Matriz Curricular.ipynb",
      "provenance": [],
      "collapsed_sections": [],
      "include_colab_link": true
    },
    "kernelspec": {
      "name": "python3",
      "display_name": "Python 3"
    }
  },
  "cells": [
    {
      "cell_type": "markdown",
      "metadata": {
        "id": "view-in-github",
        "colab_type": "text"
      },
      "source": [
        "<a href=\"https://colab.research.google.com/github/gassantos/graph-optimization/blob/master/Modelo_Conceitual_para_Matriz_Curricular.ipynb\" target=\"_parent\"><img src=\"https://colab.research.google.com/assets/colab-badge.svg\" alt=\"Open In Colab\"/></a>"
      ]
    },
    {
      "cell_type": "markdown",
      "metadata": {
        "id": "HvXIUe2YG9GA",
        "colab_type": "text"
      },
      "source": [
        "# Modelo Conceitual - **O Problema de Matriz Curricular**"
      ]
    },
    {
      "cell_type": "markdown",
      "metadata": {
        "id": "-bCuMHI3KlhB",
        "colab_type": "text"
      },
      "source": [
        "#### **Objetivo principal**:\n",
        "* **Flexibilizar a estrutura de pré-requisitos**\n",
        "\n",
        "#### Objetivos secundários:\n",
        "* Reduzir a carga horária excessiva de aula presencial\n",
        "* Induzir o aumento de carga horária prática nas disciplinas\n"
      ]
    },
    {
      "cell_type": "markdown",
      "metadata": {
        "id": "CmF9usaDKg5h",
        "colab_type": "text"
      },
      "source": [
        "# **Descrição geral**\n",
        "\n",
        "Dado o fluxograma da matriz curricular ($Grafo$ $principal$) de um curso de graduação, visa-se minimizar o tempo de permanência para um aluno graduar, baseando-se no fluxo ótimo de disciplinas obrigatórias \n",
        "($vértices$ $do$ $grafo$) a serem cumpridas por um aluno. Para isto, é importante identificar as **disciplinas candidatas** (disciplinas equivalentes de outros cursos),possíveis de cursadas conforme as regras de **Aproveitamento de Estudo**, para que sejam ofertadas ao aluno através do critério de **Taxa de Sucesso** ($peso$ $da$ $aresta$).\n",
        "\n"
      ]
    },
    {
      "cell_type": "markdown",
      "metadata": {
        "id": "qjZkpigIKgXt",
        "colab_type": "text"
      },
      "source": [
        "# **Restrições**\n",
        "\n",
        "* A disciplina correlata deve ter ementa equivalente com disciplina obrigatória candidata\n",
        "* A carga horária da disciplina correlata deve ser igual ou maior que a disciplina obrigatória candidata."
      ]
    },
    {
      "cell_type": "markdown",
      "metadata": {
        "id": "19xp_0IJsWMr",
        "colab_type": "text"
      },
      "source": [
        "# **Estudo de caso**"
      ]
    },
    {
      "cell_type": "markdown",
      "metadata": {
        "id": "K_-tk9HGsbzq",
        "colab_type": "text"
      },
      "source": [
        "Avaliar neste cenário de otimização os cursos **STEM** (Ciência da Computação, Sistema de Informação, Engenharias e Matemática):\n",
        "\n",
        "* Os dois primeiros anos destes cursos tem um conjunto significativo de disciplinas equivalentes. Sendo assim, pode-se considerar um bom cenário para avaliação de otimização para uma Matriz Curricular.\n",
        "\n"
      ]
    },
    {
      "cell_type": "markdown",
      "metadata": {
        "id": "3u_TkW1r9NKi",
        "colab_type": "text"
      },
      "source": [
        "# Procedimento\n",
        "\n",
        "\n",
        "\n",
        "1.   Modelar os dados com todas as disciplinas obrigatórias correlatas entre os cursos escolhidos.\n",
        "2.   Relacionar as disciplinas correlatas com base na taxa de sucesso (quantidade de aprovação)\n",
        "3. Exibir um grafo com todas as disciplinas correlatas representando os vértices e as arestas pelas taxas de sucesso.\n",
        "\n"
      ]
    },
    {
      "cell_type": "code",
      "metadata": {
        "id": "sQl-f772sa1A",
        "colab_type": "code",
        "colab": {}
      },
      "source": [
        ""
      ],
      "execution_count": 0,
      "outputs": []
    }
  ]
}